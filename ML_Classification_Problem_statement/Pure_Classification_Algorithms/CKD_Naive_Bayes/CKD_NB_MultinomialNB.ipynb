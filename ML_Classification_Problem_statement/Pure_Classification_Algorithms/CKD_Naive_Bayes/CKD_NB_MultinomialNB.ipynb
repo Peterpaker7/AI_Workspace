{
 "cells": [
  {
   "cell_type": "code",
   "execution_count": 2,
   "id": "3c61844c-3fa2-4347-af79-33aa7c973972",
   "metadata": {},
   "outputs": [],
   "source": [
    "import pandas as pd"
   ]
  },
  {
   "cell_type": "code",
   "execution_count": 11,
   "id": "5860f3b7-1f56-4578-bc54-5c8ab89f25d4",
   "metadata": {},
   "outputs": [
    {
     "data": {
      "text/plain": [
       "Index(['age', 'bp', 'al', 'su', 'bgr', 'bu', 'sc', 'sod', 'pot', 'hrmo', 'pcv',\n",
       "       'wc', 'rc', 'sg_b', 'sg_c', 'sg_d', 'sg_e', 'rbc_normal', 'pc_normal',\n",
       "       'pcc_present', 'ba_present', 'htn_yes', 'dm_yes', 'cad_yes',\n",
       "       'appet_yes', 'pe_yes', 'ane_yes', 'classification_yes'],\n",
       "      dtype='object')"
      ]
     },
     "execution_count": 11,
     "metadata": {},
     "output_type": "execute_result"
    }
   ],
   "source": [
    "dataset=pd.read_csv('CKD.csv')\n",
    "dataset=pd.get_dummies(dataset,drop_first=True).astype(int)\n",
    "dataset.columns"
   ]
  },
  {
   "cell_type": "code",
   "execution_count": 12,
   "id": "21998408-3dd9-4d33-8116-302c6c65a8a4",
   "metadata": {},
   "outputs": [],
   "source": [
    "indep=dataset[['age', 'bp', 'al', 'su', 'bgr', 'bu', 'sc', 'sod', 'pot', 'hrmo', 'pcv',\n",
    "       'wc', 'rc', 'sg_b', 'sg_c', 'sg_d', 'sg_e', 'rbc_normal', 'pc_normal',\n",
    "       'pcc_present', 'ba_present', 'htn_yes', 'dm_yes', 'cad_yes',\n",
    "       'appet_yes', 'pe_yes', 'ane_yes']]"
   ]
  },
  {
   "cell_type": "code",
   "execution_count": 13,
   "id": "a4fb4b05-b967-4f20-8daf-9b66262b649a",
   "metadata": {},
   "outputs": [],
   "source": [
    "dep=dataset[['classification_yes']]"
   ]
  },
  {
   "cell_type": "code",
   "execution_count": 14,
   "id": "7312fe54-9594-4df3-ab2f-4168c9843fe0",
   "metadata": {},
   "outputs": [],
   "source": [
    "from sklearn.model_selection import train_test_split as tts\n",
    "x_train,x_test,y_train,y_test=tts(indep,dep,test_size=1/3,random_state=0)"
   ]
  },
  {
   "cell_type": "code",
   "execution_count": 18,
   "id": "0e99fbde-c2f6-4f6c-a155-78c40a7e04eb",
   "metadata": {},
   "outputs": [
    {
     "name": "stdout",
     "output_type": "stream",
     "text": [
      "{'alpha': 1.0, 'class_prior': None, 'fit_prior': True, 'force_alpha': True}\n",
      "              precision    recall  f1-score   support\n",
      "\n",
      "           0       0.69      0.98      0.81        51\n",
      "           1       0.98      0.73      0.84        82\n",
      "\n",
      "    accuracy                           0.83       133\n",
      "   macro avg       0.84      0.86      0.83       133\n",
      "weighted avg       0.87      0.83      0.83       133\n",
      "\n"
     ]
    },
    {
     "name": "stderr",
     "output_type": "stream",
     "text": [
      "C:\\Users\\USER\\anaconda3\\Lib\\site-packages\\sklearn\\utils\\validation.py:1408: DataConversionWarning: A column-vector y was passed when a 1d array was expected. Please change the shape of y to (n_samples, ), for example using ravel().\n",
      "  y = column_or_1d(y, warn=True)\n"
     ]
    }
   ],
   "source": [
    "from sklearn.naive_bayes import MultinomialNB as MNB\n",
    "classifier=MNB()\n",
    "classifier.fit(x_train,y_train)\n",
    "print(classifier.get_params())\n",
    "y_pred=classifier.predict(x_test)\n",
    "from sklearn.metrics import confusion_matrix as CM\n",
    "cm=CM(y_test,y_pred)\n",
    "from sklearn.metrics import classification_report as clf\n",
    "clf_report=clf(y_test,y_pred)\n",
    "print(clf_report)"
   ]
  },
  {
   "cell_type": "code",
   "execution_count": 19,
   "id": "8e5c1002-e8a4-4ead-8013-150df1ed1e6e",
   "metadata": {},
   "outputs": [
    {
     "data": {
      "text/plain": [
       "np.float64(0.8560497369679579)"
      ]
     },
     "execution_count": 19,
     "metadata": {},
     "output_type": "execute_result"
    }
   ],
   "source": [
    "from sklearn.metrics import roc_auc_score\n",
    "roc_auc_score(y_test,y_pred)"
   ]
  },
  {
   "cell_type": "code",
   "execution_count": null,
   "id": "a74f9a50-3483-49f5-8726-5aa52c36b7f2",
   "metadata": {},
   "outputs": [],
   "source": []
  }
 ],
 "metadata": {
  "kernelspec": {
   "display_name": "Python 3 (ipykernel)",
   "language": "python",
   "name": "python3"
  },
  "language_info": {
   "codemirror_mode": {
    "name": "ipython",
    "version": 3
   },
   "file_extension": ".py",
   "mimetype": "text/x-python",
   "name": "python",
   "nbconvert_exporter": "python",
   "pygments_lexer": "ipython3",
   "version": "3.13.5"
  }
 },
 "nbformat": 4,
 "nbformat_minor": 5
}
