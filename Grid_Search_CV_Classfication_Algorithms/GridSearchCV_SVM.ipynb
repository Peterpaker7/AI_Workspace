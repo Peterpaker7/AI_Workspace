{
 "cells": [
  {
   "cell_type": "code",
   "execution_count": 1,
   "id": "6f71df50-25c1-4c1f-8e0e-bf71aa7086d3",
   "metadata": {},
   "outputs": [],
   "source": [
    "import pandas as pd"
   ]
  },
  {
   "cell_type": "code",
   "execution_count": 2,
   "id": "a4e51d14-3da3-4af2-a68a-6aba7ab9098d",
   "metadata": {},
   "outputs": [],
   "source": [
    "dataset=pd.read_csv('Social_Network_Ads.csv')"
   ]
  },
  {
   "cell_type": "code",
   "execution_count": 3,
   "id": "dd37773c-a9d3-4d64-b96d-f650b48b71b3",
   "metadata": {},
   "outputs": [],
   "source": [
    "dataset=pd.get_dummies(dataset,drop_first=True)"
   ]
  },
  {
   "cell_type": "code",
   "execution_count": 4,
   "id": "068414b7-6f73-4931-99fb-31390d02454e",
   "metadata": {},
   "outputs": [
    {
     "data": {
      "text/plain": [
       "Index(['User ID', 'Age', 'EstimatedSalary', 'Purchased', 'Gender_Male'], dtype='object')"
      ]
     },
     "execution_count": 4,
     "metadata": {},
     "output_type": "execute_result"
    }
   ],
   "source": [
    "dataset.columns"
   ]
  },
  {
   "cell_type": "code",
   "execution_count": 5,
   "id": "61e56849-fd81-46bf-a31c-f2f2571dd202",
   "metadata": {},
   "outputs": [],
   "source": [
    "dataset=dataset.drop('User ID',axis=1)"
   ]
  },
  {
   "cell_type": "code",
   "execution_count": 6,
   "id": "c169c5dc-a961-46d0-a5e4-05c3fd48b2f7",
   "metadata": {},
   "outputs": [
    {
     "data": {
      "text/plain": [
       "Purchased\n",
       "0            257\n",
       "1            143\n",
       "Name: count, dtype: int64"
      ]
     },
     "execution_count": 6,
     "metadata": {},
     "output_type": "execute_result"
    }
   ],
   "source": [
    "dataset[['Purchased']].value_counts()"
   ]
  },
  {
   "cell_type": "code",
   "execution_count": 7,
   "id": "3651ea41-f10b-4e1a-afa6-220f34ebd8c4",
   "metadata": {},
   "outputs": [
    {
     "data": {
      "text/plain": [
       "Index(['Age', 'EstimatedSalary', 'Purchased', 'Gender_Male'], dtype='object')"
      ]
     },
     "execution_count": 7,
     "metadata": {},
     "output_type": "execute_result"
    }
   ],
   "source": [
    "dataset.columns"
   ]
  },
  {
   "cell_type": "code",
   "execution_count": 8,
   "id": "57baaad1-a3bb-40f0-aefd-49fe550ff755",
   "metadata": {},
   "outputs": [],
   "source": [
    "inde=dataset[['Age', 'EstimatedSalary','Gender_Male']]"
   ]
  },
  {
   "cell_type": "code",
   "execution_count": 9,
   "id": "3e226327-5923-462a-b8af-d03579584afe",
   "metadata": {},
   "outputs": [],
   "source": [
    "dep=dataset[['Purchased']]"
   ]
  },
  {
   "cell_type": "code",
   "execution_count": 10,
   "id": "fbfa769d-efbd-446e-a7e5-6b3bd6901840",
   "metadata": {},
   "outputs": [],
   "source": [
    "from sklearn.model_selection import train_test_split as tts\n",
    "x_train,x_test,y_train,y_test=tts(inde,dep,test_size=1/3,random_state=0)"
   ]
  },
  {
   "cell_type": "code",
   "execution_count": 11,
   "id": "956d1ca1-1e7d-4167-bd4c-da48189a7e2b",
   "metadata": {},
   "outputs": [],
   "source": [
    "from sklearn.svm import SVC\n"
   ]
  },
  {
   "cell_type": "code",
   "execution_count": null,
   "id": "953167ee-81a2-461d-a9ad-eb52871ba3dd",
   "metadata": {},
   "outputs": [
    {
     "name": "stdout",
     "output_type": "stream",
     "text": [
      "Fitting 5 folds for each of 2 candidates, totalling 10 fits\n"
     ]
    }
   ],
   "source": [
    "from sklearn.model_selection import GridSearchCV\n",
    "param_grid={'kernel':['linear'],'gamma':['scale','auto']}\n",
    "grid=GridSearchCV(SVC(probability=True),param_grid,refit=True,verbose=3,n_jobs=-1,scoring='f1_weighted')\n",
    "grid.fit(x_train,y_train)"
   ]
  },
  {
   "cell_type": "code",
   "execution_count": null,
   "id": "8b61b803-84ed-4832-abfa-d276b9c0e0ea",
   "metadata": {},
   "outputs": [],
   "source": [
    "re=grid.cv_results_"
   ]
  },
  {
   "cell_type": "code",
   "execution_count": null,
   "id": "cfe89cef-6b56-4c7b-a58b-3bd109267e52",
   "metadata": {},
   "outputs": [],
   "source": [
    "grid_prediction=grid.predict(x_test)"
   ]
  },
  {
   "cell_type": "code",
   "execution_count": null,
   "id": "fb58a127-a503-4d6f-a663-be75facb01ce",
   "metadata": {},
   "outputs": [],
   "source": [
    "from sklearn.metrics import confusion_matrix\n",
    "cm=confusion_matrix(y_test,grid_prediction)"
   ]
  },
  {
   "cell_type": "code",
   "execution_count": null,
   "id": "4bfb330a-a135-48f1-9c65-6f6f014e4f51",
   "metadata": {},
   "outputs": [],
   "source": [
    "from sklearn.metrics import classification_report\n",
    "clf=classification_report(y_test,grid_prediction)"
   ]
  },
  {
   "cell_type": "code",
   "execution_count": null,
   "id": "97f80470-1dd5-41db-856b-fe8b96942393",
   "metadata": {},
   "outputs": [],
   "source": [
    "print(clf)"
   ]
  }
 ],
 "metadata": {
  "kernelspec": {
   "display_name": "Python 3 (ipykernel)",
   "language": "python",
   "name": "python3"
  },
  "language_info": {
   "codemirror_mode": {
    "name": "ipython",
    "version": 3
   },
   "file_extension": ".py",
   "mimetype": "text/x-python",
   "name": "python",
   "nbconvert_exporter": "python",
   "pygments_lexer": "ipython3",
   "version": "3.13.5"
  }
 },
 "nbformat": 4,
 "nbformat_minor": 5
}
