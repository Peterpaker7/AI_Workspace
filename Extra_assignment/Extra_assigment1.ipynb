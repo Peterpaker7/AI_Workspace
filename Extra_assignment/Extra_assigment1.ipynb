{
 "cells": [
  {
   "cell_type": "code",
   "execution_count": null,
   "id": "cf7883a5-59bc-40cd-9b05-bbd2e3204f0a",
   "metadata": {},
   "outputs": [],
   "source": [
    "#print "
   ]
  },
  {
   "cell_type": "code",
   "execution_count": null,
   "id": "7d1ab1ea-f686-43dc-8062-506dce26aab0",
   "metadata": {},
   "outputs": [],
   "source": [
    "print(\"Hope AI\")"
   ]
  },
  {
   "cell_type": "code",
   "execution_count": null,
   "id": "7af8a5c0-ee5c-4afe-8d9c-33dd395d69f4",
   "metadata": {},
   "outputs": [],
   "source": [
    " # Buy input  \n",
    "Enter your institute name? : HOPE AI "
   ]
  },
  {
   "cell_type": "code",
   "execution_count": 1,
   "id": "6b1c6d72-2cf4-4295-82d2-5f5c3a6b6147",
   "metadata": {},
   "outputs": [
    {
     "name": "stdin",
     "output_type": "stream",
     "text": [
      "enter the institue name: Hope AI\n"
     ]
    }
   ],
   "source": [
    "ins=input(\"enter the institue name:\")"
   ]
  },
  {
   "cell_type": "code",
   "execution_count": null,
   "id": "5f0ccac7-1605-450c-be8b-8dee79d39a08",
   "metadata": {},
   "outputs": [],
   "source": [
    "#Buy inputs \n",
    "Enter your name: Raj \n",
    "Enter your age: 15 \n",
    "Enter your school name: Guru school \n",
    "Enter your drgree: B.E CSE "
   ]
  },
  {
   "cell_type": "code",
   "execution_count": 2,
   "id": "49f44f62-9228-464d-a4e4-2ad10be15a4b",
   "metadata": {},
   "outputs": [
    {
     "name": "stdin",
     "output_type": "stream",
     "text": [
      "Enter your name: Mukesh KA\n",
      "Enter the age: 17\n",
      "Enter the School name:  The Path GPS\n",
      "enter the degree :  B.sc [Computer Science]\n"
     ]
    }
   ],
   "source": [
    "name=input(\"Enter your name:\")\n",
    "age=int(input(\"Enter the age:\"))\n",
    "school=input(\"Enter the School name: \")\n",
    "degree=input(\"enter the degree : \")"
   ]
  },
  {
   "cell_type": "code",
   "execution_count": null,
   "id": "1f013bd0-6f5e-4ddc-ae74-8a2d0178fde9",
   "metadata": {},
   "outputs": [],
   "source": [
    "#Addition \n",
    "a= 43 \n",
    "b= 34 \n",
    "add = 77"
   ]
  },
  {
   "cell_type": "code",
   "execution_count": 3,
   "id": "f22b52a0-b0df-4278-b837-6b0264100b5e",
   "metadata": {},
   "outputs": [
    {
     "name": "stdout",
     "output_type": "stream",
     "text": [
      "77\n"
     ]
    }
   ],
   "source": [
    "a=43\n",
    "b=34\n",
    "print(a+b)"
   ]
  },
  {
   "cell_type": "code",
   "execution_count": null,
   "id": "38981d9d-0a94-47f6-a8c1-c209a9939253",
   "metadata": {},
   "outputs": [],
   "source": [
    "#Subtraction \n",
    "a= 43 \n",
    "b= 34 \n",
    "Sub = 9"
   ]
  },
  {
   "cell_type": "code",
   "execution_count": 4,
   "id": "10e16e92-262c-480e-a5e1-3e95079a2b29",
   "metadata": {},
   "outputs": [
    {
     "name": "stdout",
     "output_type": "stream",
     "text": [
      "9\n"
     ]
    }
   ],
   "source": [
    "a= 43 \n",
    "b= 34 \n",
    "print(a-b)"
   ]
  },
  {
   "cell_type": "code",
   "execution_count": null,
   "id": "055e3c04-7629-4e50-a963-0f7142af0f2b",
   "metadata": {},
   "outputs": [],
   "source": [
    "#Multiplication \n",
    "a= 63 \n",
    "b= 97 \n",
    "Mul = 6111"
   ]
  },
  {
   "cell_type": "code",
   "execution_count": 5,
   "id": "05af82d1-4054-4fba-8b36-ea7d59e3426b",
   "metadata": {},
   "outputs": [
    {
     "name": "stdout",
     "output_type": "stream",
     "text": [
      "6111\n"
     ]
    }
   ],
   "source": [
    "a= 63 \n",
    "b= 97 \n",
    "print(a*b)"
   ]
  },
  {
   "cell_type": "code",
   "execution_count": null,
   "id": "ef826084-4a28-4861-8c73-8c655b78724f",
   "metadata": {},
   "outputs": [],
   "source": [
    "#Division \n",
    "a= 76 \n",
    "b= 31 \n",
    "Float Div = 2.4516129032258065"
   ]
  },
  {
   "cell_type": "code",
   "execution_count": 6,
   "id": "3578f7cc-5958-44d7-87de-e0f4fddbe729",
   "metadata": {},
   "outputs": [
    {
     "name": "stdout",
     "output_type": "stream",
     "text": [
      "2.4516129032258065\n"
     ]
    }
   ],
   "source": [
    "a= 76 \n",
    "b= 31\n",
    "print(a/b)"
   ]
  },
  {
   "cell_type": "code",
   "execution_count": null,
   "id": "06c5710f-ead3-4dc8-becc-52b8e4b89945",
   "metadata": {},
   "outputs": [],
   "source": [
    "#Floor division \n",
    "a= 76 \n",
    "b= 31 \n",
    "Floor Div = 2"
   ]
  },
  {
   "cell_type": "code",
   "execution_count": 7,
   "id": "80c2c3dc-9a95-4769-8ebe-45e02bef53ad",
   "metadata": {},
   "outputs": [
    {
     "name": "stdout",
     "output_type": "stream",
     "text": [
      "2\n"
     ]
    }
   ],
   "source": [
    "a= 76 \n",
    "b= 31\n",
    "print(a//b)"
   ]
  },
  {
   "cell_type": "code",
   "execution_count": null,
   "id": "8b2eec2a-821c-4f9f-a70f-67bf36c2fb82",
   "metadata": {},
   "outputs": [],
   "source": [
    "#Modulo \n",
    "a= 76 \n",
    "b= 31 \n",
    "Modulo = 14"
   ]
  },
  {
   "cell_type": "code",
   "execution_count": 8,
   "id": "bd25a21e-4400-410b-94ae-167e8ae8d770",
   "metadata": {},
   "outputs": [
    {
     "name": "stdout",
     "output_type": "stream",
     "text": [
      "14\n"
     ]
    }
   ],
   "source": [
    "a= 76 \n",
    "b= 31 \n",
    "print(a%b)"
   ]
  },
  {
   "cell_type": "code",
   "execution_count": null,
   "id": "01067980-ebfd-4ff4-af1a-3980ed07933d",
   "metadata": {},
   "outputs": [],
   "source": [
    "#Power \n",
    "a= 4 \n",
    "b= 4 \n",
    "Power = 256"
   ]
  },
  {
   "cell_type": "code",
   "execution_count": 9,
   "id": "e9ad2d6a-75ad-469a-ace6-c57097ba68c2",
   "metadata": {},
   "outputs": [
    {
     "name": "stdout",
     "output_type": "stream",
     "text": [
      "256\n"
     ]
    }
   ],
   "source": [
    "a= 4 \n",
    "b= 4 \n",
    "print(a**b)"
   ]
  },
  {
   "cell_type": "code",
   "execution_count": null,
   "id": "b7d2465d-fb8c-4732-8ae2-b24582268f30",
   "metadata": {},
   "outputs": [],
   "source": []
  }
 ],
 "metadata": {
  "kernelspec": {
   "display_name": "Python 3 (ipykernel)",
   "language": "python",
   "name": "python3"
  },
  "language_info": {
   "codemirror_mode": {
    "name": "ipython",
    "version": 3
   },
   "file_extension": ".py",
   "mimetype": "text/x-python",
   "name": "python",
   "nbconvert_exporter": "python",
   "pygments_lexer": "ipython3",
   "version": "3.13.5"
  }
 },
 "nbformat": 4,
 "nbformat_minor": 5
}
