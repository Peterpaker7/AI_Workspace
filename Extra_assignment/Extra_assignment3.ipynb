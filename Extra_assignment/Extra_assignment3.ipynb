{
 "cells": [
  {
   "cell_type": "code",
   "execution_count": null,
   "id": "5672ab85-12ac-40fd-84ad-e6111968d83f",
   "metadata": {},
   "outputs": [],
   "source": [
    " # print 'CORRECT' if i == 10 "
   ]
  },
  {
   "cell_type": "code",
   "execution_count": 1,
   "id": "bb7cd0e4-6673-4e20-8e28-26b5c97da19f",
   "metadata": {},
   "outputs": [
    {
     "name": "stdin",
     "output_type": "stream",
     "text": [
      "Enter the Number: 10\n"
     ]
    },
    {
     "name": "stdout",
     "output_type": "stream",
     "text": [
      "Correct\n"
     ]
    }
   ],
   "source": [
    "a=int(input(\"Enter the Number:\"))\n",
    "if a==10:\n",
    "    print(\"Correct\")"
   ]
  },
  {
   "cell_type": "code",
   "execution_count": null,
   "id": "f8c2eea0-ac21-4180-bbef-ddf95a8ce093",
   "metadata": {},
   "outputs": [],
   "source": [
    "# Check the password, using if and else \n",
    "#Enter the password: HOPE@123 \n",
    "#Your password is correct "
   ]
  },
  {
   "cell_type": "code",
   "execution_count": 5,
   "id": "7f433a67-6f1d-4f86-8eb5-71c2b89d322d",
   "metadata": {},
   "outputs": [
    {
     "name": "stdin",
     "output_type": "stream",
     "text": [
      "Enter the Password :  HOPE@123\n"
     ]
    },
    {
     "name": "stdout",
     "output_type": "stream",
     "text": [
      "Your password is correct \n"
     ]
    }
   ],
   "source": [
    "password=input(\"Enter the Password : \")\n",
    "if password==\"HOPE@123\":\n",
    "    print(\"Your password is correct \")\n",
    "else:\n",
    "    print(\"Wrong Password\")"
   ]
  },
  {
   "cell_type": "code",
   "execution_count": null,
   "id": "9667470a-7eb1-4f95-979d-e0c4ee4fe6a7",
   "metadata": {},
   "outputs": [],
   "source": [
    " # Catagory the people by their age like children, adult, citizen, senior citizen... \n",
    "\"\"\" age: 20 \n",
    "Adult  \"\"\""
   ]
  },
  {
   "cell_type": "code",
   "execution_count": 14,
   "id": "6090e5ba-0c94-4188-971d-1fcdf0cb57be",
   "metadata": {},
   "outputs": [
    {
     "name": "stdin",
     "output_type": "stream",
     "text": [
      "Enter the age: 20\n"
     ]
    },
    {
     "name": "stdout",
     "output_type": "stream",
     "text": [
      "Adult\n"
     ]
    }
   ],
   "source": [
    "age=int(input(\"Enter the age:\"))\n",
    "if age<18:\n",
    "    print(\"Children\")\n",
    "elif age<40:\n",
    "    print(\"Adult\")\n",
    "elif age >40:\n",
    "    print(\"Senior Citizen\")"
   ]
  },
  {
   "cell_type": "code",
   "execution_count": null,
   "id": "e80c1957-5afd-488c-bc6a-ebdb05d3c062",
   "metadata": {},
   "outputs": [],
   "source": [
    "# Find whether given number is positive or negative\n",
    "# Enter any number:1 \n",
    "# No is positive "
   ]
  },
  {
   "cell_type": "code",
   "execution_count": 19,
   "id": "03d158e9-1b46-4b42-84cf-ae06c41bfedb",
   "metadata": {},
   "outputs": [
    {
     "name": "stdin",
     "output_type": "stream",
     "text": [
      "Enter the number:  -90\n"
     ]
    },
    {
     "name": "stdout",
     "output_type": "stream",
     "text": [
      "Negative\n"
     ]
    }
   ],
   "source": [
    "a=int(input(\"Enter the number: \"))\n",
    "if a>0:\n",
    "    print(\"Postivie\")\n",
    "else:\n",
    "    print(\"Negative\")"
   ]
  },
  {
   "cell_type": "code",
   "execution_count": null,
   "id": "a4aedb31-7d00-448b-b9a9-3bae36176411",
   "metadata": {},
   "outputs": [],
   "source": [
    " # Check whether the given number is divisible by 5"
   ]
  },
  {
   "cell_type": "code",
   "execution_count": 20,
   "id": "71022882-fd52-4c94-9c81-c4a4805dcba1",
   "metadata": {},
   "outputs": [
    {
     "name": "stdin",
     "output_type": "stream",
     "text": [
      "Enter the Number: 22\n"
     ]
    },
    {
     "name": "stdout",
     "output_type": "stream",
     "text": [
      "NO its not divisible by 5\n"
     ]
    }
   ],
   "source": [
    "a=int(input(\"Enter the Number:\"))\n",
    "if a%5==0:\n",
    "    print(\"DIvisble by 5\")\n",
    "else:\n",
    "    print(\"NO its not divisible by 5\")"
   ]
  },
  {
   "cell_type": "code",
   "execution_count": null,
   "id": "2bc7c316-0608-405c-9a16-c79521a960b5",
   "metadata": {},
   "outputs": [],
   "source": []
  }
 ],
 "metadata": {
  "kernelspec": {
   "display_name": "Python 3 (ipykernel)",
   "language": "python",
   "name": "python3"
  },
  "language_info": {
   "codemirror_mode": {
    "name": "ipython",
    "version": 3
   },
   "file_extension": ".py",
   "mimetype": "text/x-python",
   "name": "python",
   "nbconvert_exporter": "python",
   "pygments_lexer": "ipython3",
   "version": "3.13.5"
  }
 },
 "nbformat": 4,
 "nbformat_minor": 5
}
