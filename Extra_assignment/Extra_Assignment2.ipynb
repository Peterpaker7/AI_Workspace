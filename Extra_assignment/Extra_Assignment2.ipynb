{
 "cells": [
  {
   "cell_type": "code",
   "execution_count": null,
   "id": "97aa9679-f618-40b6-b3c9-ca62a45a831e",
   "metadata": {},
   "outputs": [],
   "source": [
    " # print 0 to 20 by using range"
   ]
  },
  {
   "cell_type": "code",
   "execution_count": 1,
   "id": "9c9b1a85-f6a8-40c8-ae06-50842b9cd8c8",
   "metadata": {},
   "outputs": [
    {
     "name": "stdout",
     "output_type": "stream",
     "text": [
      "0\n",
      "1\n",
      "2\n",
      "3\n",
      "4\n",
      "5\n",
      "6\n",
      "7\n",
      "8\n",
      "9\n",
      "10\n",
      "11\n",
      "12\n",
      "13\n",
      "14\n",
      "15\n",
      "16\n",
      "17\n",
      "18\n",
      "19\n"
     ]
    }
   ],
   "source": [
    "for i in range(20):\n",
    "    print(i)"
   ]
  },
  {
   "cell_type": "code",
   "execution_count": null,
   "id": "341eb9eb-290a-430f-8fbb-fa2e806d793b",
   "metadata": {},
   "outputs": [],
   "source": [
    " # print range 10 to 20 "
   ]
  },
  {
   "cell_type": "code",
   "execution_count": 4,
   "id": "291ebf23-936b-4f53-8f93-32f818f00e00",
   "metadata": {},
   "outputs": [
    {
     "name": "stdout",
     "output_type": "stream",
     "text": [
      "10 11 12 13 14 15 16 17 18 19 "
     ]
    }
   ],
   "source": [
    "for i in range(10,20):\n",
    "    print(i,end=\" \")"
   ]
  },
  {
   "cell_type": "code",
   "execution_count": 6,
   "id": "14500562-beaa-4659-aede-a537058b5a1d",
   "metadata": {},
   "outputs": [
    {
     "data": {
      "text/plain": [
       "'[10, 20, 14, 55, 43, 87, 76] \\nNumber of item in the List2:  \\n7'"
      ]
     },
     "execution_count": 6,
     "metadata": {},
     "output_type": "execute_result"
    }
   ],
   "source": [
    " # Print number of items in the list by using 'len'\n",
    "\n",
    "\"\"\"[10, 20, 14, 55, 43, 87, 76] \n",
    "Number of item in the List2:  \n",
    "7\"\"\"\n"
   ]
  },
  {
   "cell_type": "code",
   "execution_count": 7,
   "id": "3823c227-bb93-4d9a-8958-edde83a5f925",
   "metadata": {},
   "outputs": [
    {
     "name": "stdout",
     "output_type": "stream",
     "text": [
      "Number of item in the List :  7\n"
     ]
    }
   ],
   "source": [
    "list=[10,20,14,55,43,87,76]\n",
    "print(\"Number of item in the List : \",len(list))"
   ]
  },
  {
   "cell_type": "code",
   "execution_count": 8,
   "id": "72512eea-4cfd-4671-be5d-a46e76389188",
   "metadata": {},
   "outputs": [
    {
     "name": "stdout",
     "output_type": "stream",
     "text": [
      "A\n",
      "r\n",
      "t\n",
      "i\n",
      "f\n",
      "i\n",
      "c\n",
      "a\n",
      "l\n",
      " \n",
      "I\n",
      "n\n",
      "t\n",
      "e\n",
      "l\n",
      "l\n",
      "i\n",
      "g\n",
      "e\n",
      "n\n",
      "c\n",
      "e\n"
     ]
    }
   ],
   "source": [
    "a=\"Artifical Intelligence\"\n",
    "for i in a:\n",
    "    print(i)"
   ]
  },
  {
   "cell_type": "code",
   "execution_count": null,
   "id": "3f8e8756-97de-4f5b-a16d-1c2d4481aa5d",
   "metadata": {},
   "outputs": [],
   "source": [
    "# Print this mixered datatype using Tuples "
   ]
  },
  {
   "cell_type": "code",
   "execution_count": 12,
   "id": "425d9f99-f764-4155-b42f-9b95718f46d6",
   "metadata": {},
   "outputs": [
    {
     "name": "stdout",
     "output_type": "stream",
     "text": [
      "(1, 'Hope AI', 2, 'AI')\n"
     ]
    }
   ],
   "source": [
    "t1=(1,\"Hope AI\")\n",
    "t2=(2,\"AI\")\n",
    "print(t1+t2)"
   ]
  },
  {
   "cell_type": "markdown",
   "id": "9cf83095-bbdd-4a83-a8d2-ea0cdc140224",
   "metadata": {},
   "source": [
    "# ((0, 1, 2, 3), ('python', 'HOPE')) "
   ]
  },
  {
   "cell_type": "code",
   "execution_count": 15,
   "id": "add82ba8-3ab3-409c-b3d3-83bab3ebfe41",
   "metadata": {},
   "outputs": [
    {
     "name": "stdout",
     "output_type": "stream",
     "text": [
      "((0, 1, 2, 3), ('Python', 'HOPE'))\n"
     ]
    }
   ],
   "source": [
    "t1=(0,1,2,3)\n",
    "t2=(\"Python\",\"HOPE\")\n",
    "t3=t1,t2\n",
    "print(t3)"
   ]
  },
  {
   "cell_type": "code",
   "execution_count": null,
   "id": "a39644fb-39a4-407b-80f8-b4eac8a2cbde",
   "metadata": {},
   "outputs": [],
   "source": [
    "# print Odd Numbers in the list \n",
    "# (20,10,16,19,25,1,276,188)"
   ]
  },
  {
   "cell_type": "code",
   "execution_count": 18,
   "id": "6351144a-0f29-4c55-b2d1-b94e1ada1752",
   "metadata": {},
   "outputs": [
    {
     "name": "stdout",
     "output_type": "stream",
     "text": [
      "19  Odd Number\n",
      "25  Odd Number\n",
      "1  Odd Number\n"
     ]
    }
   ],
   "source": [
    "list=[20,10,16,19,25,1,276,188]\n",
    "for i in list:\n",
    "    if i%2!=0:\n",
    "        print(i,\" Odd Number\")"
   ]
  },
  {
   "cell_type": "code",
   "execution_count": null,
   "id": "33b1fd6d-d3fb-488b-b62a-8f7bb553cd58",
   "metadata": {},
   "outputs": [],
   "source": [
    "# print Even numbers in the list \n",
    "#(20,10,16,19,25,1,276,188) "
   ]
  },
  {
   "cell_type": "code",
   "execution_count": 19,
   "id": "b6031450-e356-407c-92ff-594fe120b4eb",
   "metadata": {},
   "outputs": [
    {
     "name": "stdout",
     "output_type": "stream",
     "text": [
      "20  even number\n",
      "10  even number\n",
      "16  even number\n",
      "276  even number\n",
      "188  even number\n"
     ]
    }
   ],
   "source": [
    "list=[20,10,16,19,25,1,276,188]\n",
    "for i in list:\n",
    "    if i%2==0:\n",
    "        print(i,\" even number\")"
   ]
  },
  {
   "cell_type": "code",
   "execution_count": null,
   "id": "68c289a9-c262-45e1-a3c4-71887a0e41a2",
   "metadata": {},
   "outputs": [],
   "source": []
  }
 ],
 "metadata": {
  "kernelspec": {
   "display_name": "Python 3 (ipykernel)",
   "language": "python",
   "name": "python3"
  },
  "language_info": {
   "codemirror_mode": {
    "name": "ipython",
    "version": 3
   },
   "file_extension": ".py",
   "mimetype": "text/x-python",
   "name": "python",
   "nbconvert_exporter": "python",
   "pygments_lexer": "ipython3",
   "version": "3.13.5"
  }
 },
 "nbformat": 4,
 "nbformat_minor": 5
}
