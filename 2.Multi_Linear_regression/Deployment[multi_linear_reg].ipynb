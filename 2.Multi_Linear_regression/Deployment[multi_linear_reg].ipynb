{
 "cells": [
  {
   "cell_type": "code",
   "execution_count": 1,
   "id": "554c4501-72ee-463f-9d7e-dcd964cc3c27",
   "metadata": {},
   "outputs": [],
   "source": [
    "import pickle as p\n",
    "filename=\"finalised_Mul_Model.sav\""
   ]
  },
  {
   "cell_type": "code",
   "execution_count": 5,
   "id": "ebbf7475-907b-45d2-9424-6207a043de06",
   "metadata": {},
   "outputs": [
    {
     "name": "stderr",
     "output_type": "stream",
     "text": [
      "C:\\Users\\USER\\anaconda3\\Lib\\site-packages\\sklearn\\utils\\validation.py:2739: UserWarning: X does not have valid feature names, but LinearRegression was fitted with feature names\n",
      "  warnings.warn(\n"
     ]
    }
   ],
   "source": [
    "loaded_model=p.load(open(filename,\"rb\"))\n",
    "result=loaded_model.predict([[3647,9864,983,30,87,89]])\n"
   ]
  },
  {
   "cell_type": "code",
   "execution_count": 6,
   "id": "2168cf22-45b6-4143-8621-3d17f93a4549",
   "metadata": {},
   "outputs": [
    {
     "data": {
      "text/plain": [
       "array([[60553.64071576]])"
      ]
     },
     "execution_count": 6,
     "metadata": {},
     "output_type": "execute_result"
    }
   ],
   "source": [
    "result"
   ]
  },
  {
   "cell_type": "code",
   "execution_count": null,
   "id": "c0725ad5-4837-4834-be58-1658922344fd",
   "metadata": {},
   "outputs": [],
   "source": []
  }
 ],
 "metadata": {
  "kernelspec": {
   "display_name": "Python 3 (ipykernel)",
   "language": "python",
   "name": "python3"
  },
  "language_info": {
   "codemirror_mode": {
    "name": "ipython",
    "version": 3
   },
   "file_extension": ".py",
   "mimetype": "text/x-python",
   "name": "python",
   "nbconvert_exporter": "python",
   "pygments_lexer": "ipython3",
   "version": "3.13.5"
  }
 },
 "nbformat": 4,
 "nbformat_minor": 5
}
