{
 "cells": [
  {
   "cell_type": "code",
   "execution_count": null,
   "id": "424beb76-0727-48ac-b511-878afc9f8fda",
   "metadata": {},
   "outputs": [],
   "source": [
    "# Create a class and function, and list out the items in the list\n",
    "# SubfieldsInAI.Subfields() \n",
    "\"\"\" \n",
    "Sub-fields in AI are: \n",
    "Machine Learning \n",
    "Neural Networks \n",
    "Vision \n",
    "Robotics \n",
    "Speech Processing \n",
    "Natural Language Processing \n",
    "\"\"\""
   ]
  },
  {
   "cell_type": "code",
   "execution_count": 1,
   "id": "b5f58953-a3b2-4855-8c51-61f0b91e0c11",
   "metadata": {},
   "outputs": [
    {
     "name": "stdout",
     "output_type": "stream",
     "text": [
      "Machine Learning\n",
      "Neural Network\n",
      "Vision\n",
      "Robotics\n",
      "speech processing\n",
      "Natural language processing\n"
     ]
    }
   ],
   "source": [
    "class subfieldsInAI():\n",
    "    def subfields():\n",
    "        print(\"Machine Learning\")\n",
    "        print(\"Neural Network\")\n",
    "        print(\"Vision\")\n",
    "        print(\"Robotics\")\n",
    "        print('speech processing')\n",
    "        print(\"Natural language processing\")\n",
    "\n",
    "subfieldsInAI.subfields()"
   ]
  },
  {
   "cell_type": "code",
   "execution_count": null,
   "id": "b12eca3b-33a5-4eb0-b065-ce90916d83f0",
   "metadata": {},
   "outputs": [],
   "source": [
    "# Create a function that checks whether the given number is Odd or Even"
   ]
  },
  {
   "cell_type": "code",
   "execution_count": 3,
   "id": "7e5b3f3e-2d61-45b2-a3fa-e37f940c3c63",
   "metadata": {},
   "outputs": [
    {
     "name": "stdin",
     "output_type": "stream",
     "text": [
      "Enter the Number :  52452\n"
     ]
    },
    {
     "name": "stdout",
     "output_type": "stream",
     "text": [
      "Even Number\n"
     ]
    }
   ],
   "source": [
    "class oddeven():\n",
    "    def oddeven():\n",
    "        num=int(input(\"Enter the Number : \"))\n",
    "        if num%2==0:\n",
    "            print(\"Even Number\")\n",
    "        else:\n",
    "            print(\"Odd Number\")\n",
    "\n",
    "oddeven.oddeven()\n"
   ]
  },
  {
   "cell_type": "code",
   "execution_count": null,
   "id": "97fd7116-673a-4fb5-b6f5-9a58d379d1f9",
   "metadata": {},
   "outputs": [],
   "source": [
    "# calculate the percentage of your 10th mark\n",
    "\"\"\"\n",
    "Subject1= 98 \n",
    "Subject2= 87 \n",
    "Subject3= 95 \n",
    "Subject4= 95 \n",
    "Subject5= 93 \n",
    "Total :  468 \n",
    "Percentage :  93.60000000000001\n",
    "\"\"\""
   ]
  },
  {
   "cell_type": "code",
   "execution_count": 6,
   "id": "1053886f-303d-42ae-8656-90c50e86026f",
   "metadata": {},
   "outputs": [
    {
     "name": "stdin",
     "output_type": "stream",
     "text": [
      "Enter the subject1 =  98\n",
      "Enter the subject2 =  87\n",
      "Enter the subject3 =  95\n",
      "Enter the subject4 =  95\n",
      "Enter the subject5 =  93\n"
     ]
    },
    {
     "name": "stdout",
     "output_type": "stream",
     "text": [
      "Total :  468\n",
      "Percentage :  93.60000000000001\n"
     ]
    }
   ],
   "source": [
    "class FindPercentage():\n",
    "    def percentage():\n",
    "        s1=int(input(\"Enter the subject1 = \"))\n",
    "        s2=int(input(\"Enter the subject2 = \"))\n",
    "        s3=int(input(\"Enter the subject3 = \"))\n",
    "        s4=int(input(\"Enter the subject4 = \"))\n",
    "        s5=int(input(\"Enter the subject5 = \"))\n",
    "        total=s1+s2+s3+s4+s5\n",
    "        print(\"Total : \",total)\n",
    "        print(\"Percentage : \",total/500*100)\n",
    "        \n",
    "FindPercentage.percentage()   "
   ]
  },
  {
   "cell_type": "code",
   "execution_count": null,
   "id": "5081ab09-64b4-4ce3-930d-a70e0f7410a6",
   "metadata": {},
   "outputs": [],
   "source": [
    "#print area and perimeter of triangle using class and functions \n",
    "\"\"\"\n",
    "triangle.triangle() \n",
    "Height:32 \n",
    "Breadth:34 \n",
    "Area formula: (Height*Breadth)/2 \n",
    "Area of Triangle:  544.0 \n",
    "Height1:2 \n",
    "Height2:4 \n",
    "Breadth:4 \n",
    "Perimeter formula: Height1+Height2+Breadth \n",
    "Perimeter of Triangle:  10\n",
    "\"\"\""
   ]
  },
  {
   "cell_type": "code",
   "execution_count": 8,
   "id": "cad18a87-004e-4444-a17b-9f0a0ba5c6aa",
   "metadata": {},
   "outputs": [
    {
     "name": "stdout",
     "output_type": "stream",
     "text": [
      "Area of Triangle :  544.0\n",
      "perimeter of traingle :  10\n"
     ]
    }
   ],
   "source": [
    "class triangle():\n",
    "    def triangle():\n",
    "        h=32\n",
    "        b=34\n",
    "        af=(h*b)/2\n",
    "        h1=2\n",
    "        h2=4\n",
    "        b1=4\n",
    "        pf=h1+h2+b1\n",
    "        print(\"Area of Triangle : \",af)\n",
    "        print(\"perimeter of traingle : \",pf)\n",
    "\n",
    "triangle.triangle()"
   ]
  },
  {
   "cell_type": "code",
   "execution_count": null,
   "id": "ab515c21-55a3-4776-a15b-e42d5843bd5c",
   "metadata": {},
   "outputs": [],
   "source": []
  }
 ],
 "metadata": {
  "kernelspec": {
   "display_name": "Python 3 (ipykernel)",
   "language": "python",
   "name": "python3"
  },
  "language_info": {
   "codemirror_mode": {
    "name": "ipython",
    "version": 3
   },
   "file_extension": ".py",
   "mimetype": "text/x-python",
   "name": "python",
   "nbconvert_exporter": "python",
   "pygments_lexer": "ipython3",
   "version": "3.13.5"
  }
 },
 "nbformat": 4,
 "nbformat_minor": 5
}
