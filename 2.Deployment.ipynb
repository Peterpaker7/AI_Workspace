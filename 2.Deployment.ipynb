{
 "cells": [
  {
   "cell_type": "code",
   "execution_count": 37,
   "id": "3908510b-be79-4ff2-bd3c-22d18dce2ece",
   "metadata": {},
   "outputs": [],
   "source": [
    "import pickle as p"
   ]
  },
  {
   "cell_type": "code",
   "execution_count": 38,
   "id": "7faebd3c-a35c-456c-9f72-8dcfe61ab4e3",
   "metadata": {},
   "outputs": [
    {
     "name": "stderr",
     "output_type": "stream",
     "text": [
      "C:\\Users\\USER\\anaconda3\\Lib\\site-packages\\sklearn\\utils\\validation.py:2739: UserWarning: X does not have valid feature names, but LinearRegression was fitted with feature names\n",
      "  warnings.warn(\n"
     ]
    }
   ],
   "source": [
    "loaded_model=p.load(open(filename,\"rb\"))\n",
    "result=loaded_model.predict([[14]])"
   ]
  },
  {
   "cell_type": "code",
   "execution_count": 39,
   "id": "7d9b7948-5ed2-4a40-b40a-900109ce4511",
   "metadata": {},
   "outputs": [
    {
     "data": {
      "text/plain": [
       "array([[157821.04934791]])"
      ]
     },
     "execution_count": 39,
     "metadata": {},
     "output_type": "execute_result"
    }
   ],
   "source": [
    "result"
   ]
  },
  {
   "cell_type": "code",
   "execution_count": null,
   "id": "de497099-abe9-41cb-917c-1feb1a021ba2",
   "metadata": {},
   "outputs": [],
   "source": []
  }
 ],
 "metadata": {
  "kernelspec": {
   "display_name": "Python 3 (ipykernel)",
   "language": "python",
   "name": "python3"
  },
  "language_info": {
   "codemirror_mode": {
    "name": "ipython",
    "version": 3
   },
   "file_extension": ".py",
   "mimetype": "text/x-python",
   "name": "python",
   "nbconvert_exporter": "python",
   "pygments_lexer": "ipython3",
   "version": "3.13.5"
  }
 },
 "nbformat": 4,
 "nbformat_minor": 5
}
