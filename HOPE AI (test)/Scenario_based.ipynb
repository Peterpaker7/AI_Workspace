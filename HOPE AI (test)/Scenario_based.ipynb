{
 "cells": [
  {
   "cell_type": "code",
   "execution_count": null,
   "id": "45e41471-5f95-4efe-aa85-487832afc819",
   "metadata": {},
   "outputs": [],
   "source": [
    "# A function is required to reverse a given number.\n",
    "# Write logic to reverse a given number\n",
    "\n",
    "def reverse():\n",
    "    a=(input(\"Enter the number:\"))\n",
    "    print(a[::-1])\n",
    "\n",
    "reverse()\n"
   ]
  },
  {
   "cell_type": "code",
   "execution_count": null,
   "id": "1ec5596b-d853-40e1-a15d-76452ec5dc26",
   "metadata": {},
   "outputs": [],
   "source": [
    "# A program is required to convert all strings in a list to uppercase.\n",
    "# Write logic to convert all strings in a list to uppercase.\n",
    "\n",
    "\n",
    "a=input(\"Enter the text : \")\n",
    "q=a.upper()\n",
    "print(q)\n",
    "    "
   ]
  },
  {
   "cell_type": "code",
   "execution_count": null,
   "id": "e48f69ce-edf7-4236-ab43-7bea7f918553",
   "metadata": {},
   "outputs": [],
   "source": [
    "# A program needs to identify common elements between two lists for data filtering.\n",
    "\n",
    "l1=[1,2,3,4,5]\n",
    "l2=[3,2,7,8,1]\n",
    "l3=[]\n",
    "\n",
    "\n",
    "if l1[0]==l2[0]:\n",
    "    print(l3.append(l1[0]))\n",
    "elif l1[1]==l2[1]:\n",
    "    print(l3.append(l1[1]))\n",
    "elif l1[2]==l2[2]:\n",
    "    print(l3.append(l1[2]))"
   ]
  },
  {
   "cell_type": "code",
   "execution_count": null,
   "id": "871458da-55fb-4d2e-8a9a-ba16e102b884",
   "metadata": {},
   "outputs": [],
   "source": [
    "# A function needs to merge two sorted lists into a single sorted list efficiently.\n",
    "l1=[2,3,4,2,1]\n",
    "l2=[8,4,32,5]\n",
    "q=l2.extend(l1)\n",
    "print(q)\n"
   ]
  },
  {
   "cell_type": "code",
   "execution_count": null,
   "id": "8d4e5cdd-188c-4d5d-9085-f58f240d640d",
   "metadata": {},
   "outputs": [],
   "source": []
  }
 ],
 "metadata": {
  "kernelspec": {
   "display_name": "Python 3 (ipykernel)",
   "language": "python",
   "name": "python3"
  },
  "language_info": {
   "codemirror_mode": {
    "name": "ipython",
    "version": 3
   },
   "file_extension": ".py",
   "mimetype": "text/x-python",
   "name": "python",
   "nbconvert_exporter": "python",
   "pygments_lexer": "ipython3",
   "version": "3.13.5"
  }
 },
 "nbformat": 4,
 "nbformat_minor": 5
}
