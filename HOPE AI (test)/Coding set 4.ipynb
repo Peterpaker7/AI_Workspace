{
 "cells": [
  {
   "cell_type": "code",
   "execution_count": null,
   "id": "236d4978",
   "metadata": {
    "id": "236d4978"
   },
   "outputs": [],
   "source": [
    "#1.Find the GCD of Two Numbers\n",
    "Question: Write a Python program to find the Greatest Common Divisor (GCD) of 36 and 60.\n"
   ]
  },
  {
   "cell_type": "code",
   "execution_count": 4,
   "id": "e1bfc6af",
   "metadata": {
    "id": "e1bfc6af"
   },
   "outputs": [
    {
     "name": "stdout",
     "output_type": "stream",
     "text": [
      "24\n"
     ]
    }
   ],
   "source": [
    "#2. Find the Sum of Digits of a Number\n",
    "# Question: Write a Python program to find the sum of the digits of the number 987.\n",
    "\n",
    "a=9,8,7\n",
    "b=sum(a)\n",
    "print(b)\n",
    "\n"
   ]
  },
  {
   "cell_type": "code",
   "execution_count": null,
   "id": "e051bb22",
   "metadata": {
    "id": "e051bb22"
   },
   "outputs": [],
   "source": [
    "#3. Find All Armstrong Numbers Between 1 and 1000\n",
    "Question: Write a Python program to print all Armstrong numbers between 1 and 1000.\n"
   ]
  },
  {
   "cell_type": "code",
   "execution_count": 5,
   "id": "dbffe07b",
   "metadata": {
    "id": "dbffe07b"
   },
   "outputs": [
    {
     "name": "stdout",
     "output_type": "stream",
     "text": [
      "11\n"
     ]
    }
   ],
   "source": [
    "#4.Count the Frequency of Each Character in a String\n",
    "# Question: Write a Python program to count the frequency of each character in \"programming\".\n",
    "\n",
    "a=\"programming\"\n",
    "print(len(a))\n",
    "\n"
   ]
  },
  {
   "cell_type": "code",
   "execution_count": 6,
   "id": "f092013b",
   "metadata": {
    "id": "f092013b"
   },
   "outputs": [
    {
     "name": "stdout",
     "output_type": "stream",
     "text": [
      "1\n",
      "4\n",
      "9\n",
      "16\n",
      "25\n",
      "36\n",
      "49\n",
      "64\n",
      "81\n",
      "100\n"
     ]
    }
   ],
   "source": [
    "#5. Generate a List of Squares of Numbers from 1 to 10\n",
    "# Question: Write a Python program to generate a list containing squares of numbers from 1 to 10.\n",
    "\n",
    "a=1,2,3,4,5,6,7,8,9,10\n",
    "for i in a:\n",
    "    print(i**2)\n"
   ]
  },
  {
   "cell_type": "code",
   "execution_count": null,
   "id": "3b44c858",
   "metadata": {
    "id": "3b44c858"
   },
   "outputs": [],
   "source": []
  },
  {
   "cell_type": "code",
   "execution_count": null,
   "id": "3d849771",
   "metadata": {
    "id": "3d849771"
   },
   "outputs": [],
   "source": []
  },
  {
   "cell_type": "code",
   "execution_count": null,
   "id": "7840dd7f",
   "metadata": {
    "id": "7840dd7f"
   },
   "outputs": [],
   "source": []
  },
  {
   "cell_type": "code",
   "execution_count": null,
   "id": "e7d58228",
   "metadata": {
    "id": "e7d58228"
   },
   "outputs": [],
   "source": []
  },
  {
   "cell_type": "code",
   "execution_count": null,
   "id": "85a782d9",
   "metadata": {
    "id": "85a782d9"
   },
   "outputs": [],
   "source": []
  }
 ],
 "metadata": {
  "colab": {
   "provenance": []
  },
  "kernelspec": {
   "display_name": "Python 3 (ipykernel)",
   "language": "python",
   "name": "python3"
  },
  "language_info": {
   "codemirror_mode": {
    "name": "ipython",
    "version": 3
   },
   "file_extension": ".py",
   "mimetype": "text/x-python",
   "name": "python",
   "nbconvert_exporter": "python",
   "pygments_lexer": "ipython3",
   "version": "3.13.5"
  }
 },
 "nbformat": 4,
 "nbformat_minor": 5
}
